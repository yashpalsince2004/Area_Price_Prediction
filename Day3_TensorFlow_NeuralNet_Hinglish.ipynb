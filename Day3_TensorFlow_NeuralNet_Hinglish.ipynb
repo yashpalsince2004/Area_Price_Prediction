{
 "cells": [
  {
   "cell_type": "markdown",
   "metadata": {},
   "source": [
    "# 🧠 Day 3: Neural Networks using Keras Sequential API (Hinglish Version)\n",
    "Aaj hum TensorFlow ke Keras API ka use karke ek simple neural network banayenge, train karenge aur prediction karenge.\n",
    "\n",
    "### 🔍 Topics Covered:\n",
    "- Neural Network kya hota hai (basic overview)\n",
    "- Sequential model in Keras\n",
    "- Layers, Activation, Loss, Optimizer ka meaning\n",
    "- Real example: House price prediction\n"
   ]
  },
  {
   "cell_type": "markdown",
   "metadata": {},
   "source": [
    "## 🧠 Neural Network Basics (Hinglish)\n",
    "Neural network ek layered structure hota hai jo input ko process karke output nikaalta hai. Ye human brain se inspired hota hai.\n",
    "\n",
    "**Neural Network ka Structure:**\n",
    "| Layer Type        | Kaam kya karta hai                        |\n",
    "|------------------|--------------------------------------------|\n",
    "| Input Layer       | Data receive karta hai                    |\n",
    "| Hidden Layer(s)   | Calculation karta hai, patterns samajhta hai |\n",
    "| Output Layer      | Final result/prediction nikaalta hai      |\n",
    "| Activation        | Decide karta hai neuron fire kare ya nahi |\n",
    "| Loss Function     | Batata hai prediction kitna galat tha     |\n",
    "| Optimizer         | Learning karta hai (weights update)       |\n"
   ]
  },
  {
   "cell_type": "code",
   "execution_count": null,
   "metadata": {},
   "outputs": [],
   "source": [
    "# ✅ Libraries Import karo\n",
    "import tensorflow as tf\n",
    "from tensorflow import keras\n",
    "import numpy as np"
   ]
  },
  {
   "cell_type": "markdown",
   "metadata": {},
   "source": [
    "## 🏡 Problem: Predict house price based on area\n",
    "Agar area zyada hai toh price bhi zyada hoga – simple regression problem.\n",
    "\n",
    "**X = Area (in sqft)**\n",
    "**Y = Price (in lakhs)**"
   ]
  },
  {
   "cell_type": "code",
   "execution_count": null,
   "metadata": {},
   "outputs": [],
   "source": [
    "# ✅ Sample data\n",
    "X = np.array([500, 750, 1000, 1250, 1500], dtype=float)\n",
    "Y = np.array([50, 75, 100, 125, 150], dtype=float)\n",
    "# ✅ Normalization\n",
    "X = X / 1000.0  # Normalize X to range [0, 1]   \n",
    "Y = Y / 100.0    # Normalize Y to range [0, 1]"
   ]
  },
  {
   "cell_type": "markdown",
   "metadata": {},
   "source": [
    "## 🏗️ Step 1: Model Create karna\n",
    "`Sequential` model matlab layer-by-layer model. Yahaan hum ek single Dense (fully connected) layer use kar rahe hain.\n",
    "\n",
    "**Dense Layer** = har input har neuron se connected hota hai.\n",
    "\n",
    "**input_shape=[1]** kyunki ek hi feature hai: Area"
   ]
  },
  {
   "cell_type": "code",
   "execution_count": null,
   "metadata": {},
   "outputs": [],
   "source": [
    "# ✅ Model bana rahe hain\n",
    "model = keras.Sequential([\n",
    "    keras.layers.Dense(units=1, input_shape=[1])\n",
    "])"
   ]
  },
  {
   "cell_type": "markdown",
   "metadata": {},
   "source": [
    "## ⚙️ Step 2: Model Compile karna\n",
    "- **Loss Function:** Mean Squared Error (regression ke liye common)\n",
    "- **Optimizer:** SGD (Stochastic Gradient Descent) – learning ka process\n"
   ]
  },
  {
   "cell_type": "code",
   "execution_count": null,
   "metadata": {},
   "outputs": [],
   "source": [
    "# ✅ Model ko compile karo\n",
    "# Compile with Adam optimizer (smarter & safer)\n",
    "model.compile(optimizer=keras.optimizers.Adam(learning_rate=0.01),\n",
    "              loss='mean_squared_error')"
   ]
  },
  {
   "cell_type": "markdown",
   "metadata": {},
   "source": [
    "## 🏋️ Step 3: Model Train karna\n",
    "- **Epochs:** Kitni baar data model ko dikhana hai\n",
    "- Jitni zyada epochs, utna achha training (lekin overfitting ka dhyan rakho)\n"
   ]
  },
  {
   "cell_type": "code",
   "execution_count": null,
   "metadata": {},
   "outputs": [],
   "source": [
    "# ✅ Train the model\n",
    "model.fit(X, Y, epochs=500, verbose=0)"
   ]
  },
  {
   "cell_type": "markdown",
   "metadata": {},
   "source": [
    "## 🔮 Step 4: Prediction karna\n",
    "Ab hum trained model ka use karke naye area ke liye price predict karenge."
   ]
  },
  {
   "cell_type": "code",
   "execution_count": null,
   "metadata": {},
   "outputs": [],
   "source": [
    "# ✅ Predict karo\n",
    "scaled_input = np.array([[2000.0 / 1000.0]])  # = [[2.0]]\n",
    "scaled_prediction = model.predict(scaled_input)\n",
    "\n",
    "# Rescale the output back to original\n",
    "final_prediction = scaled_prediction * 100.0\n",
    "\n",
    "print(\"Prediction for 2000 sqft area:\", final_prediction)"
   ]
  },
  {
   "cell_type": "markdown",
   "metadata": {},
   "source": [
    "## 🔁 Bonus: Try Yourself\n",
    "- Epochs badhao ya ghatao (observe karo changes)\n",
    "- Ek hidden layer add karo (example niche diya gaya hai)\n",
    "- Activation function (ReLU, Sigmoid) lagao\n",
    "- Prediction karo for 3000 sqft area"
   ]
  },
  {
   "cell_type": "code",
   "execution_count": null,
   "metadata": {},
   "outputs": [],
   "source": [
    "# ✅ Hidden layer + activation ke saath example\n",
    "model2 = keras.Sequential([\n",
    "    keras.layers.Dense(10, activation='relu', input_shape=[1]),\n",
    "    keras.layers.Dense(1)\n",
    "])\n",
    "model2.compile(optimizer='adam', loss='mean_squared_error')\n",
    "model2.fit(X, Y, epochs=500, verbose=0)\n",
    "print(\"Prediction with hidden layer for 2000 sqft:\", model2.predict([2000.0]))"
   ]
  },
  {
   "cell_type": "markdown",
   "id": "3ef6b6c3",
   "metadata": {},
   "source": [
    "# Solution For above additional Work"
   ]
  },
  {
   "cell_type": "code",
   "execution_count": null,
   "id": "ec98a73a",
   "metadata": {},
   "outputs": [],
   "source": [
    "import tensorflow as tf\n",
    "from tensorflow import keras\n",
    "import numpy as np\n",
    "\n",
    "# Original data\n",
    "x = np.array([500, 750, 1000, 1250, 1500], dtype=float)\n",
    "y = np.array([50, 75, 100, 125, 150], dtype=float)  # price in lakhs\n",
    "\n",
    "# Normalize the input data for better stability\n",
    "x_scaled = x / 1000.0  # values now: 0.5, 0.75, ..., 1.5\n",
    "y_scaled = y / 100.0   # values now: 0.5, 0.75, ..., 1.5\n",
    "\n",
    "# Create model\n",
    "model = keras.Sequential([\n",
    "        keras.layers.Dense(10, activation='relu', input_shape=[1]),  # hidden layer with 10 neurons\n",
    "    keras.layers.Dense(1)\n",
    "])\n",
    "\n",
    "# Compile with Adam optimizer (smarter & safer)\n",
    "model.compile(optimizer=keras.optimizers.Adam(learning_rate=0.01),\n",
    "              loss='mean_squared_error')\n",
    "\n",
    "# Train model\n",
    "model.fit(x_scaled, y_scaled, epochs=500, verbose=0)\n",
    "\n",
    "# Predict for 3000 sqft → scale input\n",
    "scaled_input = np.array([[3000.0 / 1000.0]])  # = 2.0\n",
    "scaled_prediction = model.predict(scaled_input)\n",
    "\n",
    "# Rescale output to original range\n",
    "final_prediction = scaled_prediction * 100.0\n",
    "\n",
    "print(\"Prediction for 3000 sqft area:\", final_prediction)\n"
   ]
  }
 ],
 "metadata": {
  "kernelspec": {
   "display_name": "venv",
   "language": "python",
   "name": "python3"
  },
  "language_info": {
   "codemirror_mode": {
    "name": "ipython",
    "version": 3
   },
   "file_extension": ".py",
   "mimetype": "text/x-python",
   "name": "python",
   "nbconvert_exporter": "python",
   "pygments_lexer": "ipython3",
   "version": "3.10.0"
  }
 },
 "nbformat": 4,
 "nbformat_minor": 5
}
